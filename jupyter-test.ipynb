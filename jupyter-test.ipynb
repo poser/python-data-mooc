{
 "cells": [
  {
   "cell_type": "markdown",
   "metadata": {},
   "source": [
    "# A Jupyter notebook for testing\n",
    "\n",
    "Nothing to see here...\n",
    "\n",
    "## TODO\n",
    "\n",
    "- TODO Setup emacs (org-mode?) integration\n",
    "\n",
    "## Installation on Arch Linux\n",
    "\n",
    "[Source](https://wiki.archlinux.org/index.php/Python/Virtual_environment)\n",
    "\n",
    "1. Install and configure\n",
    "```\n",
    "sudo pacman -Syu\n",
    "sudo pacman -S python-virtualenvwrapper python2-pip python2-virtualenv\n",
    "pip2 install virtualenvwrapper\n",
    "mkdir ~/.virtualenvs\n",
    "```\n",
    "2. Add to ~/.bashrc\n",
    "```\n",
    "export VIRTUALENVWRAPPER_PYTHON=/usr/bin/python2.7\n",
    "export VIRTUALENVWRAPPER_VIRTUALENV=/usr/bin/virtualenv2\n",
    "export WORKON_HOME=~/.virtualenvs\n",
    "source /usr/bin/virtualenvwrapper.sh\n",
    "```\n",
    "3. Restart terminal\n",
    "4. Create virtualenv\n",
    "```\n",
    "mkvirtualenv -p /usr/bin/python2.7 python-data-mooc\n",
    "```\n",
    "5. Activate virtualenv\n",
    "```\n",
    "workon python-data-mooc\n",
    "deactivate\n",
    "workon python-data-mooc\n",
    "```\n",
    "6. Install Jupyter notebook\n",
    "```\n",
    "pip install jupyter\n",
    "```\n",
    "7. Create Github repo then clone it\n",
    "```\n",
    "cd ~/archives/src\n",
    "git clone https://github.com/poser/python-data-mooc.git\n",
    "cd python-data-mooc\n",
    "```\n",
    "8. Activate Jupyter\n",
    "```\n",
    "jupyter notebook\n",
    "```\n",
    "9. Create and save new Jupyter notebook\n",
    "10. Upload SSH pubkey to Github and edit `.../.git/config`\n",
    "```\n",
    "...\n",
    "[remote \"origin\"]\n",
    "\turl = git@github.com:poser/python-data-mooc.git\n",
    "...\n",
    "```\n",
    "11. Push to repo\n",
    "```\n",
    "git add . --all\n",
    "git commit -m \"Created jupyter notebook for testing\"\n",
    "git push origin master\n",
    "```\n"
   ]
  },
  {
   "cell_type": "code",
   "execution_count": 2,
   "metadata": {},
   "outputs": [
    {
     "name": "stdout",
     "output_type": "stream",
     "text": [
      "Bwah!\n"
     ]
    }
   ],
   "source": [
    "print \"Bwah!\""
   ]
  },
  {
   "cell_type": "code",
   "execution_count": null,
   "metadata": {
    "collapsed": true
   },
   "outputs": [],
   "source": []
  }
 ],
 "metadata": {
  "kernelspec": {
   "display_name": "Python 2",
   "language": "python",
   "name": "python2"
  },
  "language_info": {
   "codemirror_mode": {
    "name": "ipython",
    "version": 2
   },
   "file_extension": ".py",
   "mimetype": "text/x-python",
   "name": "python",
   "nbconvert_exporter": "python",
   "pygments_lexer": "ipython2",
   "version": "2.7.13"
  }
 },
 "nbformat": 4,
 "nbformat_minor": 2
}
