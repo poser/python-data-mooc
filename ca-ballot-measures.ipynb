{
 "cells": [
  {
   "cell_type": "markdown",
   "metadata": {},
   "source": [
    "# Analysis of CA ballot measure financing\n",
    "\n",
    "Including Proposition 62 to abolish the death penalty in California."
   ]
  },
  {
   "cell_type": "code",
   "execution_count": 78,
   "metadata": {
    "collapsed": true
   },
   "outputs": [],
   "source": [
    "import pandas as pd"
   ]
  },
  {
   "cell_type": "code",
   "execution_count": 79,
   "metadata": {
    "collapsed": true
   },
   "outputs": [],
   "source": [
    "# proposition = \"PROPOSITION 064- MARIJUANA LEGALIZATION. INITIATIVE STATUTE.\"\n",
    "proposition = \"PROPOSITION 062- DEATH PENALTY. INITIATIVE STATUTE.\""
   ]
  },
  {
   "cell_type": "markdown",
   "metadata": {},
   "source": [
    "### Read in data on committees and contributions"
   ]
  },
  {
   "cell_type": "code",
   "execution_count": 80,
   "metadata": {
    "collapsed": true
   },
   "outputs": [],
   "source": [
    "props = pd.read_csv(\"http://www.firstpythonnotebook.org/_static/committees.csv\")"
   ]
  },
  {
   "cell_type": "code",
   "execution_count": 81,
   "metadata": {
    "collapsed": true
   },
   "outputs": [],
   "source": [
    "contribs = pd.read_csv(\"http://www.firstpythonnotebook.org/_static/contributions.csv\")"
   ]
  },
  {
   "cell_type": "markdown",
   "metadata": {},
   "source": [
    "### Number of committees per proposition"
   ]
  },
  {
   "cell_type": "code",
   "execution_count": 82,
   "metadata": {},
   "outputs": [
    {
     "data": {
      "text/plain": [
       "PROPOSITION 057 - CRIMINAL SENTENCES. JUVENILE CRIMINAL PROCEEDINGS AND SENTENCING. INITIATIVE CONSTITUTIONAL AMENDMENT AND STATUTE.                           13\n",
       "PROPOSITION 056 - CIGARETTE TAX TO FUND HEALTHCARE, TOBACCO USE PREVENTION, RESEARCH, AND LAW ENFORCEMENT. INITIATIVE CONSTITUTIONAL AMENDMENT AND STATUTE.    12\n",
       "PROPOSITION 064- MARIJUANA LEGALIZATION. INITIATIVE STATUTE.                                                                                                   11\n",
       "PROPOSITION 066- DEATH PENALTY. PROCEDURES. INITIATIVE STATUTE.                                                                                                 9\n",
       "PROPOSITION 055 - TAX EXTENSION TO FUND EDUCATION AND HEALTHCARE. INITIATIVE CONSTITUTIONAL AMENDMENT.                                                          8\n",
       "PROPOSITION 067- REFERENDUM TO OVERTURN BAN ON SINGLE-USE PLASTIC BAGS.                                                                                         7\n",
       "PROPOSITION 062- DEATH PENALTY. INITIATIVE STATUTE.                                                                                                             7\n",
       "PROPOSITION 059- SB 254 (CHAPTER 20, STATUTES OF 2016), ALLEN. CAMPAIGN FINANCE: VOTER INSTRUCTION                                                              6\n",
       "PROPOSITION 053 - REVENUE BONDS. STATEWIDE VOTER APPROVAL. INITIATIVE CONSTITUTIONAL AMENDMENT.                                                                 4\n",
       "PROPOSITION 054 - LEGISLATURE. LEGISLATION AND PROCEEDINGS. INITIATIVE CONSTITUTIONAL AMENDMENT AND STATUTE.                                                    4\n",
       "PROPOSITION 058 - SB 1174 (CHAPTER 753, STATUTES OF 2014), LARA. ENGLISH LANGUAGE EDUCATION                                                                     4\n",
       "PROPOSITION 063- FIREARMS. AMMUNITION SALES. INTIATIVE STATUTE.                                                                                                 4\n",
       "PROPOSITION 051 - SCHOOL BONDS. FUNDING FOR K-12 SCHOOL AND COMMUNITY COLLEGE FACILITIES. INITIATIVE STATUTORY AMENDMENT.                                       4\n",
       "PROPOSITION 052 - STATE FEES ON HOSPITALS. FEDERAL MEDI-CAL MATCHING FUNDS. INITIATIVE STATUTORY AND CONSTITUTIONAL AMENDMENT.                                  3\n",
       "PROPOSITION 061- STATE PRESCRIPTION DRUG PURCHASES. PRICING STANDARDS. INITIATIVE STATUTE.                                                                      3\n",
       "PROPOSITION 060- ADULT FILMS. CONDOMS. HEALTH REQUIREMENTS. INITIATIVE STATUTE.                                                                                 2\n",
       "PROPOSITION 065- CARRY-OUT BAGS. CHARGES. INITIATIVE STATUTE.                                                                                                   1\n",
       "Name: prop_name, dtype: int64"
      ]
     },
     "execution_count": 82,
     "metadata": {},
     "output_type": "execute_result"
    }
   ],
   "source": [
    "props.prop_name.value_counts()"
   ]
  },
  {
   "cell_type": "markdown",
   "metadata": {},
   "source": [
    "### Filter for proposition of interest"
   ]
  },
  {
   "cell_type": "code",
   "execution_count": 83,
   "metadata": {
    "collapsed": true
   },
   "outputs": [],
   "source": [
    "prop = props[props.prop_name == proposition]"
   ]
  },
  {
   "cell_type": "markdown",
   "metadata": {},
   "source": [
    "## All contributions to all committees for and against the proposition"
   ]
  },
  {
   "cell_type": "code",
   "execution_count": 84,
   "metadata": {
    "collapsed": true
   },
   "outputs": [],
   "source": [
    "merged = pd.merge(prop, contribs, on=\"calaccess_committee_id\")"
   ]
  },
  {
   "cell_type": "code",
   "execution_count": 85,
   "metadata": {},
   "outputs": [
    {
     "data": {
      "text/html": [
       "<div>\n",
       "<style>\n",
       "    .dataframe thead tr:only-child th {\n",
       "        text-align: right;\n",
       "    }\n",
       "\n",
       "    .dataframe thead th {\n",
       "        text-align: left;\n",
       "    }\n",
       "\n",
       "    .dataframe tbody tr th {\n",
       "        vertical-align: top;\n",
       "    }\n",
       "</style>\n",
       "<table border=\"1\" class=\"dataframe\">\n",
       "  <thead>\n",
       "    <tr style=\"text-align: right;\">\n",
       "      <th></th>\n",
       "      <th>contributor_firstname</th>\n",
       "      <th>contributor_lastname</th>\n",
       "      <th>contributor_city</th>\n",
       "      <th>contributor_state</th>\n",
       "      <th>amount</th>\n",
       "      <th>committee_name_x</th>\n",
       "      <th>committee_position</th>\n",
       "    </tr>\n",
       "  </thead>\n",
       "  <tbody>\n",
       "    <tr>\n",
       "      <th>0</th>\n",
       "      <td>SUZI</td>\n",
       "      <td>ALEXANDER</td>\n",
       "      <td>SAN FRANCISCO</td>\n",
       "      <td>CA</td>\n",
       "      <td>100.0</td>\n",
       "      <td>YES ON 62, NO ON 66. REPLACE THE COSTLY, FAILE...</td>\n",
       "      <td>SUPPORT</td>\n",
       "    </tr>\n",
       "    <tr>\n",
       "      <th>1</th>\n",
       "      <td>GARLAND</td>\n",
       "      <td>ALLEN</td>\n",
       "      <td>SANTA MONICA</td>\n",
       "      <td>CA</td>\n",
       "      <td>1500.0</td>\n",
       "      <td>YES ON 62, NO ON 66. REPLACE THE COSTLY, FAILE...</td>\n",
       "      <td>SUPPORT</td>\n",
       "    </tr>\n",
       "    <tr>\n",
       "      <th>2</th>\n",
       "      <td>KATHRYN</td>\n",
       "      <td>ANDREWS</td>\n",
       "      <td>EL CERRITO</td>\n",
       "      <td>CA</td>\n",
       "      <td>100.0</td>\n",
       "      <td>YES ON 62, NO ON 66. REPLACE THE COSTLY, FAILE...</td>\n",
       "      <td>SUPPORT</td>\n",
       "    </tr>\n",
       "    <tr>\n",
       "      <th>3</th>\n",
       "      <td>ROBERT</td>\n",
       "      <td>BACON</td>\n",
       "      <td>OAKLAND</td>\n",
       "      <td>CA</td>\n",
       "      <td>750.0</td>\n",
       "      <td>YES ON 62, NO ON 66. REPLACE THE COSTLY, FAILE...</td>\n",
       "      <td>SUPPORT</td>\n",
       "    </tr>\n",
       "    <tr>\n",
       "      <th>4</th>\n",
       "      <td>RICHARD</td>\n",
       "      <td>BAYLESS</td>\n",
       "      <td>FREMONT</td>\n",
       "      <td>CA</td>\n",
       "      <td>100.0</td>\n",
       "      <td>YES ON 62, NO ON 66. REPLACE THE COSTLY, FAILE...</td>\n",
       "      <td>SUPPORT</td>\n",
       "    </tr>\n",
       "  </tbody>\n",
       "</table>\n",
       "</div>"
      ],
      "text/plain": [
       "  contributor_firstname contributor_lastname contributor_city  \\\n",
       "0                  SUZI            ALEXANDER    SAN FRANCISCO   \n",
       "1               GARLAND                ALLEN     SANTA MONICA   \n",
       "2               KATHRYN              ANDREWS       EL CERRITO   \n",
       "3                ROBERT                BACON          OAKLAND   \n",
       "4               RICHARD              BAYLESS          FREMONT   \n",
       "\n",
       "  contributor_state  amount  \\\n",
       "0                CA   100.0   \n",
       "1                CA  1500.0   \n",
       "2                CA   100.0   \n",
       "3                CA   750.0   \n",
       "4                CA   100.0   \n",
       "\n",
       "                                    committee_name_x committee_position  \n",
       "0  YES ON 62, NO ON 66. REPLACE THE COSTLY, FAILE...            SUPPORT  \n",
       "1  YES ON 62, NO ON 66. REPLACE THE COSTLY, FAILE...            SUPPORT  \n",
       "2  YES ON 62, NO ON 66. REPLACE THE COSTLY, FAILE...            SUPPORT  \n",
       "3  YES ON 62, NO ON 66. REPLACE THE COSTLY, FAILE...            SUPPORT  \n",
       "4  YES ON 62, NO ON 66. REPLACE THE COSTLY, FAILE...            SUPPORT  "
      ]
     },
     "execution_count": 85,
     "metadata": {},
     "output_type": "execute_result"
    }
   ],
   "source": [
    "merged[[\"contributor_firstname\", \"contributor_lastname\", \"contributor_city\", \"contributor_state\", \"amount\", \"committee_name_x\", \"committee_position\"]].head()"
   ]
  },
  {
   "cell_type": "markdown",
   "metadata": {},
   "source": [
    "#### Total contributions"
   ]
  },
  {
   "cell_type": "code",
   "execution_count": 86,
   "metadata": {
    "scrolled": true
   },
   "outputs": [
    {
     "data": {
      "text/plain": [
       "32836678.18"
      ]
     },
     "execution_count": 86,
     "metadata": {},
     "output_type": "execute_result"
    }
   ],
   "source": [
    "merged.amount.sum()"
   ]
  },
  {
   "cell_type": "markdown",
   "metadata": {},
   "source": [
    "#### Number of committees for and against the proposition"
   ]
  },
  {
   "cell_type": "code",
   "execution_count": 87,
   "metadata": {},
   "outputs": [
    {
     "data": {
      "text/html": [
       "<div>\n",
       "<style>\n",
       "    .dataframe thead tr:only-child th {\n",
       "        text-align: right;\n",
       "    }\n",
       "\n",
       "    .dataframe thead th {\n",
       "        text-align: left;\n",
       "    }\n",
       "\n",
       "    .dataframe tbody tr th {\n",
       "        vertical-align: top;\n",
       "    }\n",
       "</style>\n",
       "<table border=\"1\" class=\"dataframe\">\n",
       "  <thead>\n",
       "    <tr style=\"text-align: right;\">\n",
       "      <th></th>\n",
       "      <th>index</th>\n",
       "      <th>committee_position</th>\n",
       "    </tr>\n",
       "  </thead>\n",
       "  <tbody>\n",
       "    <tr>\n",
       "      <th>0</th>\n",
       "      <td>OPPOSE</td>\n",
       "      <td>29633</td>\n",
       "    </tr>\n",
       "    <tr>\n",
       "      <th>1</th>\n",
       "      <td>SUPPORT</td>\n",
       "      <td>4809</td>\n",
       "    </tr>\n",
       "  </tbody>\n",
       "</table>\n",
       "</div>"
      ],
      "text/plain": [
       "     index  committee_position\n",
       "0   OPPOSE               29633\n",
       "1  SUPPORT                4809"
      ]
     },
     "execution_count": 87,
     "metadata": {},
     "output_type": "execute_result"
    }
   ],
   "source": [
    "merged.committee_position.value_counts().reset_index()"
   ]
  },
  {
   "cell_type": "code",
   "execution_count": 88,
   "metadata": {
    "collapsed": true
   },
   "outputs": [],
   "source": [
    "support = merged[merged.committee_position == \"SUPPORT\"]"
   ]
  },
  {
   "cell_type": "code",
   "execution_count": 89,
   "metadata": {
    "collapsed": true
   },
   "outputs": [],
   "source": [
    "oppose = merged[merged.committee_position == \"OPPOSE\"]"
   ]
  },
  {
   "cell_type": "markdown",
   "metadata": {},
   "source": [
    "#### Total contributions *for* the proposition "
   ]
  },
  {
   "cell_type": "code",
   "execution_count": 90,
   "metadata": {},
   "outputs": [
    {
     "data": {
      "text/plain": [
       "16000608.370000001"
      ]
     },
     "execution_count": 90,
     "metadata": {},
     "output_type": "execute_result"
    }
   ],
   "source": [
    "support.amount.sum()"
   ]
  },
  {
   "cell_type": "markdown",
   "metadata": {},
   "source": [
    "#### Total contributions *against* the proposition "
   ]
  },
  {
   "cell_type": "code",
   "execution_count": 91,
   "metadata": {
    "scrolled": true
   },
   "outputs": [
    {
     "data": {
      "text/plain": [
       "16836069.809999999"
      ]
     },
     "execution_count": 91,
     "metadata": {},
     "output_type": "execute_result"
    }
   ],
   "source": [
    "oppose.amount.sum()"
   ]
  },
  {
   "cell_type": "markdown",
   "metadata": {},
   "source": [
    "#### Percentage of *total* contributions given to support the proposition"
   ]
  },
  {
   "cell_type": "code",
   "execution_count": 92,
   "metadata": {},
   "outputs": [
    {
     "data": {
      "text/plain": [
       "0.48727853293472212"
      ]
     },
     "execution_count": 92,
     "metadata": {},
     "output_type": "execute_result"
    }
   ],
   "source": [
    "support.amount.sum() / merged.amount.sum()"
   ]
  },
  {
   "cell_type": "markdown",
   "metadata": {},
   "source": [
    "#### Top contributions *in support of* the proposition"
   ]
  },
  {
   "cell_type": "code",
   "execution_count": 93,
   "metadata": {},
   "outputs": [
    {
     "data": {
      "text/html": [
       "<div>\n",
       "<style>\n",
       "    .dataframe thead tr:only-child th {\n",
       "        text-align: right;\n",
       "    }\n",
       "\n",
       "    .dataframe thead th {\n",
       "        text-align: left;\n",
       "    }\n",
       "\n",
       "    .dataframe tbody tr th {\n",
       "        vertical-align: top;\n",
       "    }\n",
       "</style>\n",
       "<table border=\"1\" class=\"dataframe\">\n",
       "  <thead>\n",
       "    <tr style=\"text-align: right;\">\n",
       "      <th></th>\n",
       "      <th>contributor_firstname</th>\n",
       "      <th>contributor_lastname</th>\n",
       "      <th>contributor_city</th>\n",
       "      <th>contributor_state</th>\n",
       "      <th>amount</th>\n",
       "      <th>committee_name_x</th>\n",
       "    </tr>\n",
       "  </thead>\n",
       "  <tbody>\n",
       "    <tr>\n",
       "      <th>33745</th>\n",
       "      <td>NaN</td>\n",
       "      <td>FUND FOR POLICY REFORM</td>\n",
       "      <td>WILMINGTON</td>\n",
       "      <td>DE</td>\n",
       "      <td>1970000.0</td>\n",
       "      <td>FUND FOR POLICY REFORM (NONPROFIT 501(C)(4))</td>\n",
       "    </tr>\n",
       "    <tr>\n",
       "      <th>33737</th>\n",
       "      <td>THOMAS</td>\n",
       "      <td>STEYER</td>\n",
       "      <td>SAN FRANCISCO</td>\n",
       "      <td>CA</td>\n",
       "      <td>1500000.0</td>\n",
       "      <td>MILLION VOTER PROJECT ACTION FUND - YES ON 55,...</td>\n",
       "    </tr>\n",
       "    <tr>\n",
       "      <th>33746</th>\n",
       "      <td>NaN</td>\n",
       "      <td>FUND FOR POLICY REFORM</td>\n",
       "      <td>WILMINGTON</td>\n",
       "      <td>DE</td>\n",
       "      <td>1403000.0</td>\n",
       "      <td>FUND FOR POLICY REFORM (NONPROFIT 501(C)(4))</td>\n",
       "    </tr>\n",
       "    <tr>\n",
       "      <th>33744</th>\n",
       "      <td>NaN</td>\n",
       "      <td>FUND FOR POLICY REFORM</td>\n",
       "      <td>WILMINGTON</td>\n",
       "      <td>DE</td>\n",
       "      <td>1000000.0</td>\n",
       "      <td>FUND FOR POLICY REFORM (NONPROFIT 501(C)(4))</td>\n",
       "    </tr>\n",
       "    <tr>\n",
       "      <th>33742</th>\n",
       "      <td>NaN</td>\n",
       "      <td>FUND FOR POLICY REFORM</td>\n",
       "      <td>WILMINGTON</td>\n",
       "      <td>DE</td>\n",
       "      <td>550000.0</td>\n",
       "      <td>FUND FOR POLICY REFORM (NONPROFIT 501(C)(4))</td>\n",
       "    </tr>\n",
       "  </tbody>\n",
       "</table>\n",
       "</div>"
      ],
      "text/plain": [
       "      contributor_firstname    contributor_lastname contributor_city  \\\n",
       "33745                   NaN  FUND FOR POLICY REFORM       WILMINGTON   \n",
       "33737                THOMAS                  STEYER    SAN FRANCISCO   \n",
       "33746                   NaN  FUND FOR POLICY REFORM       WILMINGTON   \n",
       "33744                   NaN  FUND FOR POLICY REFORM       WILMINGTON   \n",
       "33742                   NaN  FUND FOR POLICY REFORM       WILMINGTON   \n",
       "\n",
       "      contributor_state     amount  \\\n",
       "33745                DE  1970000.0   \n",
       "33737                CA  1500000.0   \n",
       "33746                DE  1403000.0   \n",
       "33744                DE  1000000.0   \n",
       "33742                DE   550000.0   \n",
       "\n",
       "                                        committee_name_x  \n",
       "33745       FUND FOR POLICY REFORM (NONPROFIT 501(C)(4))  \n",
       "33737  MILLION VOTER PROJECT ACTION FUND - YES ON 55,...  \n",
       "33746       FUND FOR POLICY REFORM (NONPROFIT 501(C)(4))  \n",
       "33744       FUND FOR POLICY REFORM (NONPROFIT 501(C)(4))  \n",
       "33742       FUND FOR POLICY REFORM (NONPROFIT 501(C)(4))  "
      ]
     },
     "execution_count": 93,
     "metadata": {},
     "output_type": "execute_result"
    }
   ],
   "source": [
    "support.sort_values(\"amount\", ascending=False)[[\"contributor_firstname\", \"contributor_lastname\", \"contributor_city\", \"contributor_state\", \"amount\", \"committee_name_x\"]].head()"
   ]
  },
  {
   "cell_type": "markdown",
   "metadata": {},
   "source": [
    "#### Top contributions *in opposition to* the proposition"
   ]
  },
  {
   "cell_type": "code",
   "execution_count": 94,
   "metadata": {},
   "outputs": [
    {
     "data": {
      "text/html": [
       "<div>\n",
       "<style>\n",
       "    .dataframe thead tr:only-child th {\n",
       "        text-align: right;\n",
       "    }\n",
       "\n",
       "    .dataframe thead th {\n",
       "        text-align: left;\n",
       "    }\n",
       "\n",
       "    .dataframe tbody tr th {\n",
       "        vertical-align: top;\n",
       "    }\n",
       "</style>\n",
       "<table border=\"1\" class=\"dataframe\">\n",
       "  <thead>\n",
       "    <tr style=\"text-align: right;\">\n",
       "      <th></th>\n",
       "      <th>contributor_firstname</th>\n",
       "      <th>contributor_lastname</th>\n",
       "      <th>contributor_city</th>\n",
       "      <th>contributor_state</th>\n",
       "      <th>amount</th>\n",
       "      <th>committee_name_x</th>\n",
       "    </tr>\n",
       "  </thead>\n",
       "  <tbody>\n",
       "    <tr>\n",
       "      <th>33246</th>\n",
       "      <td>HENRY T.</td>\n",
       "      <td>NICHOLAS III</td>\n",
       "      <td>ALISO VIEJO</td>\n",
       "      <td>CA</td>\n",
       "      <td>200000.0</td>\n",
       "      <td>CALIFORNIANS TO MEND, NOT END, THE DEATH PENAL...</td>\n",
       "    </tr>\n",
       "    <tr>\n",
       "      <th>33014</th>\n",
       "      <td>HENRY T.</td>\n",
       "      <td>NICHOLAS III</td>\n",
       "      <td>ALISO VIEJO</td>\n",
       "      <td>CA</td>\n",
       "      <td>200000.0</td>\n",
       "      <td>CALIFORNIANS TO MEND, NOT END, THE DEATH PENAL...</td>\n",
       "    </tr>\n",
       "    <tr>\n",
       "      <th>33734</th>\n",
       "      <td>NaN</td>\n",
       "      <td>CALIFORNIA CORRECTIONAL PEACE OFFICERS ASSOCIA...</td>\n",
       "      <td>SACRAMENTO</td>\n",
       "      <td>CA</td>\n",
       "      <td>125000.0</td>\n",
       "      <td>CALIFORNIANS TO MEND, NOT END, THE DEATH PENAL...</td>\n",
       "    </tr>\n",
       "    <tr>\n",
       "      <th>33696</th>\n",
       "      <td>NaN</td>\n",
       "      <td>CALIFORNIA CORRECTIONAL PEACE OFFICERS ASSOCIA...</td>\n",
       "      <td>SACRAMENTO</td>\n",
       "      <td>CA</td>\n",
       "      <td>125000.0</td>\n",
       "      <td>CALIFORNIANS TO MEND, NOT END, THE DEATH PENAL...</td>\n",
       "    </tr>\n",
       "    <tr>\n",
       "      <th>32739</th>\n",
       "      <td>NaN</td>\n",
       "      <td>LOS ANGELES POLICE PROTECTIVE LEAGUE ISSUES PAC</td>\n",
       "      <td>SACRAMENTO</td>\n",
       "      <td>CA</td>\n",
       "      <td>125000.0</td>\n",
       "      <td>CALIFORNIANS TO MEND, NOT END, THE DEATH PENAL...</td>\n",
       "    </tr>\n",
       "  </tbody>\n",
       "</table>\n",
       "</div>"
      ],
      "text/plain": [
       "      contributor_firstname  \\\n",
       "33246              HENRY T.   \n",
       "33014              HENRY T.   \n",
       "33734                   NaN   \n",
       "33696                   NaN   \n",
       "32739                   NaN   \n",
       "\n",
       "                                    contributor_lastname contributor_city  \\\n",
       "33246                                       NICHOLAS III      ALISO VIEJO   \n",
       "33014                                       NICHOLAS III      ALISO VIEJO   \n",
       "33734  CALIFORNIA CORRECTIONAL PEACE OFFICERS ASSOCIA...       SACRAMENTO   \n",
       "33696  CALIFORNIA CORRECTIONAL PEACE OFFICERS ASSOCIA...       SACRAMENTO   \n",
       "32739    LOS ANGELES POLICE PROTECTIVE LEAGUE ISSUES PAC       SACRAMENTO   \n",
       "\n",
       "      contributor_state    amount  \\\n",
       "33246                CA  200000.0   \n",
       "33014                CA  200000.0   \n",
       "33734                CA  125000.0   \n",
       "33696                CA  125000.0   \n",
       "32739                CA  125000.0   \n",
       "\n",
       "                                        committee_name_x  \n",
       "33246  CALIFORNIANS TO MEND, NOT END, THE DEATH PENAL...  \n",
       "33014  CALIFORNIANS TO MEND, NOT END, THE DEATH PENAL...  \n",
       "33734  CALIFORNIANS TO MEND, NOT END, THE DEATH PENAL...  \n",
       "33696  CALIFORNIANS TO MEND, NOT END, THE DEATH PENAL...  \n",
       "32739  CALIFORNIANS TO MEND, NOT END, THE DEATH PENAL...  "
      ]
     },
     "execution_count": 94,
     "metadata": {},
     "output_type": "execute_result"
    }
   ],
   "source": [
    "oppose.sort_values(\"amount\", ascending=False)[[\"contributor_firstname\", \"contributor_lastname\", \"contributor_city\", \"contributor_state\", \"amount\", \"committee_name_x\"]].head()"
   ]
  },
  {
   "cell_type": "markdown",
   "metadata": {},
   "source": [
    "## Total intake, by committee, for and against the proposition"
   ]
  },
  {
   "cell_type": "code",
   "execution_count": 95,
   "metadata": {},
   "outputs": [
    {
     "data": {
      "text/html": [
       "<div>\n",
       "<style>\n",
       "    .dataframe thead tr:only-child th {\n",
       "        text-align: right;\n",
       "    }\n",
       "\n",
       "    .dataframe thead th {\n",
       "        text-align: left;\n",
       "    }\n",
       "\n",
       "    .dataframe tbody tr th {\n",
       "        vertical-align: top;\n",
       "    }\n",
       "</style>\n",
       "<table border=\"1\" class=\"dataframe\">\n",
       "  <thead>\n",
       "    <tr style=\"text-align: right;\">\n",
       "      <th></th>\n",
       "      <th>committee_name_x</th>\n",
       "      <th>committee_position</th>\n",
       "      <th>amount</th>\n",
       "    </tr>\n",
       "  </thead>\n",
       "  <tbody>\n",
       "    <tr>\n",
       "      <th>1</th>\n",
       "      <td>CALIFORNIANS TO MEND, NOT END, THE DEATH PENAL...</td>\n",
       "      <td>OPPOSE</td>\n",
       "      <td>8.387852e+06</td>\n",
       "    </tr>\n",
       "    <tr>\n",
       "      <th>0</th>\n",
       "      <td>CALIFORNIA CORRECTIONAL PEACE OFFICERS ASSOCIA...</td>\n",
       "      <td>OPPOSE</td>\n",
       "      <td>8.343218e+06</td>\n",
       "    </tr>\n",
       "    <tr>\n",
       "      <th>6</th>\n",
       "      <td>YES ON 62, NO ON 66. REPLACE THE COSTLY, FAILE...</td>\n",
       "      <td>SUPPORT</td>\n",
       "      <td>7.621678e+06</td>\n",
       "    </tr>\n",
       "    <tr>\n",
       "      <th>2</th>\n",
       "      <td>FUND FOR POLICY REFORM (NONPROFIT 501(C)(4))</td>\n",
       "      <td>SUPPORT</td>\n",
       "      <td>6.140000e+06</td>\n",
       "    </tr>\n",
       "    <tr>\n",
       "      <th>3</th>\n",
       "      <td>MILLION VOTER PROJECT ACTION FUND - YES ON 55,...</td>\n",
       "      <td>SUPPORT</td>\n",
       "      <td>2.110000e+06</td>\n",
       "    </tr>\n",
       "    <tr>\n",
       "      <th>5</th>\n",
       "      <td>VOLUNTEERS FOR YES ON 62</td>\n",
       "      <td>SUPPORT</td>\n",
       "      <td>1.289300e+05</td>\n",
       "    </tr>\n",
       "    <tr>\n",
       "      <th>4</th>\n",
       "      <td>SAN FRANCISCO POLICE OFFICERS ASSOCIATION ISSU...</td>\n",
       "      <td>OPPOSE</td>\n",
       "      <td>1.050000e+05</td>\n",
       "    </tr>\n",
       "  </tbody>\n",
       "</table>\n",
       "</div>"
      ],
      "text/plain": [
       "                                    committee_name_x committee_position  \\\n",
       "1  CALIFORNIANS TO MEND, NOT END, THE DEATH PENAL...             OPPOSE   \n",
       "0  CALIFORNIA CORRECTIONAL PEACE OFFICERS ASSOCIA...             OPPOSE   \n",
       "6  YES ON 62, NO ON 66. REPLACE THE COSTLY, FAILE...            SUPPORT   \n",
       "2       FUND FOR POLICY REFORM (NONPROFIT 501(C)(4))            SUPPORT   \n",
       "3  MILLION VOTER PROJECT ACTION FUND - YES ON 55,...            SUPPORT   \n",
       "5                           VOLUNTEERS FOR YES ON 62            SUPPORT   \n",
       "4  SAN FRANCISCO POLICE OFFICERS ASSOCIATION ISSU...             OPPOSE   \n",
       "\n",
       "         amount  \n",
       "1  8.387852e+06  \n",
       "0  8.343218e+06  \n",
       "6  7.621678e+06  \n",
       "2  6.140000e+06  \n",
       "3  2.110000e+06  \n",
       "5  1.289300e+05  \n",
       "4  1.050000e+05  "
      ]
     },
     "execution_count": 95,
     "metadata": {},
     "output_type": "execute_result"
    }
   ],
   "source": [
    "merged.groupby([\"committee_name_x\", \"committee_position\"]).amount.sum().reset_index().sort_values(\"amount\", ascending=False)"
   ]
  },
  {
   "cell_type": "markdown",
   "metadata": {},
   "source": [
    "## Top individual and organizational contributors for and against the proposition\n",
    "\n",
    "- Used `fillna()` to fill missing (`NaN`) values for contributors' first and last names\n",
    "- Combination of first name, last name, city and \"position\" assumed to be unique individual\n"
   ]
  },
  {
   "cell_type": "code",
   "execution_count": 96,
   "metadata": {},
   "outputs": [],
   "source": [
    "top_contributors = merged.fillna({'contributor_firstname': 'NotAFirstName', 'contributor_lastname': 'NotALastName'})\n",
    "top_contributors = top_contributors.groupby([\"contributor_firstname\", \"contributor_lastname\", \"contributor_city\", \"committee_position\"]).amount.sum().reset_index().sort_values(\"amount\", ascending=False)"
   ]
  },
  {
   "cell_type": "code",
   "execution_count": 97,
   "metadata": {},
   "outputs": [
    {
     "data": {
      "text/html": [
       "<div>\n",
       "<style>\n",
       "    .dataframe thead tr:only-child th {\n",
       "        text-align: right;\n",
       "    }\n",
       "\n",
       "    .dataframe thead th {\n",
       "        text-align: left;\n",
       "    }\n",
       "\n",
       "    .dataframe tbody tr th {\n",
       "        vertical-align: top;\n",
       "    }\n",
       "</style>\n",
       "<table border=\"1\" class=\"dataframe\">\n",
       "  <thead>\n",
       "    <tr style=\"text-align: right;\">\n",
       "      <th></th>\n",
       "      <th>contributor_firstname</th>\n",
       "      <th>contributor_lastname</th>\n",
       "      <th>contributor_city</th>\n",
       "      <th>committee_position</th>\n",
       "      <th>amount</th>\n",
       "    </tr>\n",
       "  </thead>\n",
       "  <tbody>\n",
       "    <tr>\n",
       "      <th>22133</th>\n",
       "      <td>NotAFirstName</td>\n",
       "      <td>FUND FOR POLICY REFORM</td>\n",
       "      <td>WILMINGTON</td>\n",
       "      <td>SUPPORT</td>\n",
       "      <td>6140000.0</td>\n",
       "    </tr>\n",
       "    <tr>\n",
       "      <th>28597</th>\n",
       "      <td>THOMAS</td>\n",
       "      <td>STEYER</td>\n",
       "      <td>SAN FRANCISCO</td>\n",
       "      <td>SUPPORT</td>\n",
       "      <td>1750000.0</td>\n",
       "    </tr>\n",
       "    <tr>\n",
       "      <th>21816</th>\n",
       "      <td>NICHOLAS</td>\n",
       "      <td>MCKEOWN</td>\n",
       "      <td>PORTOLA VALLEY</td>\n",
       "      <td>SUPPORT</td>\n",
       "      <td>1500000.0</td>\n",
       "    </tr>\n",
       "    <tr>\n",
       "      <th>23943</th>\n",
       "      <td>REED</td>\n",
       "      <td>HASTINGS</td>\n",
       "      <td>SANTA CRUZ</td>\n",
       "      <td>SUPPORT</td>\n",
       "      <td>1000000.0</td>\n",
       "    </tr>\n",
       "    <tr>\n",
       "      <th>22098</th>\n",
       "      <td>NotAFirstName</td>\n",
       "      <td>CALIFORNIA CORRECTIONAL PEACE OFFICERS ASSOCIA...</td>\n",
       "      <td>SACRAMENTO</td>\n",
       "      <td>OPPOSE</td>\n",
       "      <td>650000.0</td>\n",
       "    </tr>\n",
       "    <tr>\n",
       "      <th>22198</th>\n",
       "      <td>NotAFirstName</td>\n",
       "      <td>PEACE OFFICERS RESEARCH ASSOCIATION OF CALIFOR...</td>\n",
       "      <td>SACRAMENTO</td>\n",
       "      <td>OPPOSE</td>\n",
       "      <td>610000.0</td>\n",
       "    </tr>\n",
       "    <tr>\n",
       "      <th>22164</th>\n",
       "      <td>NotAFirstName</td>\n",
       "      <td>LAURENE POWELL JOBS, INCLUDING EMERSON COLLECT...</td>\n",
       "      <td>PALO ALTO</td>\n",
       "      <td>SUPPORT</td>\n",
       "      <td>600000.0</td>\n",
       "    </tr>\n",
       "    <tr>\n",
       "      <th>22192</th>\n",
       "      <td>NotAFirstName</td>\n",
       "      <td>OPEN SOCIETY POLICY CENTER INC.</td>\n",
       "      <td>WASHINGTON</td>\n",
       "      <td>SUPPORT</td>\n",
       "      <td>500000.0</td>\n",
       "    </tr>\n",
       "    <tr>\n",
       "      <th>22254</th>\n",
       "      <td>NotAFirstName</td>\n",
       "      <td>THE CALIFORNIA ASSOCIATION OF HIGHWAY PATROLMEN</td>\n",
       "      <td>SACRAMENTO</td>\n",
       "      <td>OPPOSE</td>\n",
       "      <td>500000.0</td>\n",
       "    </tr>\n",
       "    <tr>\n",
       "      <th>22714</th>\n",
       "      <td>PAUL</td>\n",
       "      <td>GRAHAM</td>\n",
       "      <td>MOUNTAIN VEW</td>\n",
       "      <td>SUPPORT</td>\n",
       "      <td>500000.0</td>\n",
       "    </tr>\n",
       "  </tbody>\n",
       "</table>\n",
       "</div>"
      ],
      "text/plain": [
       "      contributor_firstname  \\\n",
       "22133         NotAFirstName   \n",
       "28597                THOMAS   \n",
       "21816              NICHOLAS   \n",
       "23943                  REED   \n",
       "22098         NotAFirstName   \n",
       "22198         NotAFirstName   \n",
       "22164         NotAFirstName   \n",
       "22192         NotAFirstName   \n",
       "22254         NotAFirstName   \n",
       "22714                  PAUL   \n",
       "\n",
       "                                    contributor_lastname contributor_city  \\\n",
       "22133                             FUND FOR POLICY REFORM       WILMINGTON   \n",
       "28597                                             STEYER    SAN FRANCISCO   \n",
       "21816                                            MCKEOWN   PORTOLA VALLEY   \n",
       "23943                                           HASTINGS       SANTA CRUZ   \n",
       "22098  CALIFORNIA CORRECTIONAL PEACE OFFICERS ASSOCIA...       SACRAMENTO   \n",
       "22198  PEACE OFFICERS RESEARCH ASSOCIATION OF CALIFOR...       SACRAMENTO   \n",
       "22164  LAURENE POWELL JOBS, INCLUDING EMERSON COLLECT...        PALO ALTO   \n",
       "22192                    OPEN SOCIETY POLICY CENTER INC.       WASHINGTON   \n",
       "22254    THE CALIFORNIA ASSOCIATION OF HIGHWAY PATROLMEN       SACRAMENTO   \n",
       "22714                                             GRAHAM     MOUNTAIN VEW   \n",
       "\n",
       "      committee_position     amount  \n",
       "22133            SUPPORT  6140000.0  \n",
       "28597            SUPPORT  1750000.0  \n",
       "21816            SUPPORT  1500000.0  \n",
       "23943            SUPPORT  1000000.0  \n",
       "22098             OPPOSE   650000.0  \n",
       "22198             OPPOSE   610000.0  \n",
       "22164            SUPPORT   600000.0  \n",
       "22192            SUPPORT   500000.0  \n",
       "22254             OPPOSE   500000.0  \n",
       "22714            SUPPORT   500000.0  "
      ]
     },
     "execution_count": 97,
     "metadata": {},
     "output_type": "execute_result"
    }
   ],
   "source": [
    "top_contributors.head(10)"
   ]
  },
  {
   "cell_type": "code",
   "execution_count": null,
   "metadata": {
    "collapsed": true
   },
   "outputs": [],
   "source": []
  }
 ],
 "metadata": {
  "kernelspec": {
   "display_name": "Python 2",
   "language": "python",
   "name": "python2"
  },
  "language_info": {
   "codemirror_mode": {
    "name": "ipython",
    "version": 2
   },
   "file_extension": ".py",
   "mimetype": "text/x-python",
   "name": "python",
   "nbconvert_exporter": "python",
   "pygments_lexer": "ipython2",
   "version": "2.7.13"
  }
 },
 "nbformat": 4,
 "nbformat_minor": 2
}
